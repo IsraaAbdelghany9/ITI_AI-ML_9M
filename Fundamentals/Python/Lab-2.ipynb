{
 "cells": [
  {
   "cell_type": "markdown",
   "metadata": {},
   "source": [
    "# Lab 2\n"
   ]
  },
  {
   "cell_type": "markdown",
   "metadata": {},
   "source": [
    "## Write a program that prints the locations of \"i\" character in any string you added.\n"
   ]
  },
  {
   "cell_type": "code",
   "execution_count": 8,
   "metadata": {},
   "outputs": [
    {
     "name": "stdout",
     "output_type": "stream",
     "text": [
      "4\n"
     ]
    }
   ],
   "source": [
    "string = input (\"please enter a string to count the number of the i character: \")\n",
    "\n",
    "count = 0\n",
    "i = len(string) -1\n",
    "\n",
    "while (i >= 0): \n",
    "    if string[i] == 'i':\n",
    "        count += 1\n",
    "\n",
    "    i -= 1\n",
    "\n",
    "print (count)"
   ]
  },
  {
   "cell_type": "markdown",
   "metadata": {},
   "source": [
    "## Write a program that generate a multiplication table from 1 to the number passed."
   ]
  },
  {
   "cell_type": "code",
   "execution_count": 86,
   "metadata": {},
   "outputs": [
    {
     "name": "stdout",
     "output_type": "stream",
     "text": [
      "[[1], [2, 4], [3, 6, 9], [4, 8, 12, 16]]\n"
     ]
    }
   ],
   "source": [
    "number = input(\"please enter a number :\")\n",
    "\n",
    "count = 1\n",
    "\n",
    "list_of_numbers = []\n",
    "\n",
    "\n",
    "\n",
    "# for i in range (number):\n",
    "#      list_of_numbers.append(i**count)\n",
    "\n",
    "\n",
    "if (number.isdigit()):\n",
    "    number = int(number)\n",
    "\n",
    "\n",
    "#################### Initialize a list of lists ####################    \n",
    "    for i in range (number):\n",
    "        list_of_numbers += [[] ]\n",
    "\n",
    "\n",
    "################## print numbers in a list of lists ####################\n",
    "    for i in range(1, number + 1):\n",
    "        for j in range(1, i + 1):\n",
    "            list_of_numbers[i - 1].append(i * j)\n",
    "\n",
    "    print (list_of_numbers)\n",
    "\n",
    "else :\n",
    "    print (\"please enter a valid number\")"
   ]
  },
  {
   "cell_type": "markdown",
   "metadata": {},
   "source": [
    "# Write a program that build a Mario pyramid like below:"
   ]
  },
  {
   "cell_type": "code",
   "execution_count": 48,
   "metadata": {},
   "outputs": [
    {
     "name": "stdout",
     "output_type": "stream",
     "text": [
      "    \n",
      "   *\n",
      "  **\n",
      " ***\n",
      "\n"
     ]
    }
   ],
   "source": [
    "entered_number = input(\"please enter a number :\")\n",
    "\n",
    "stringNumber = \"\"\n",
    "#counter = 0\n",
    "if (entered_number.isdigit()):\n",
    "    entered_number = int(entered_number)\n",
    "\n",
    "    # for row in range (entered_number+1):         #0\n",
    "    #     for column in range (row+1):  #0\n",
    "    #         if column < row :             #0\n",
    "    #             stringNumber += \"*\"            #* \n",
    "    #         elif column == row :\n",
    "    #             stringNumber += \"\\n\"\n",
    "    #print (stringNumber)\n",
    "\n",
    "    for row in range(entered_number+1, 0, -1):  \n",
    "        for column in range(entered_number+1):  \n",
    "            if column < row:\n",
    "                stringNumber += \" \"  # Add spaces first\n",
    "            else:\n",
    "                stringNumber += \"*\"  # Then add stars\n",
    "        stringNumber += \"\\n\"  # New line after each row  \n",
    "            \n",
    "    print (stringNumber)\n",
    "    \n",
    "else :\n",
    "    print (\"please enter a valid number\")"
   ]
  },
  {
   "cell_type": "markdown",
   "metadata": {},
   "source": [
    "# Fill an array of 5 elements from the user, Sort it in descending and ascending orders then display the output."
   ]
  },
  {
   "cell_type": "code",
   "execution_count": 75,
   "metadata": {},
   "outputs": [
    {
     "name": "stdout",
     "output_type": "stream",
     "text": [
      "[3, 4, 5, 6, 7]\n",
      "[7, 6, 5, 4, 3]\n"
     ]
    }
   ],
   "source": [
    "i = 0 \n",
    "\n",
    "lst = []\n",
    "while i < 5 :\n",
    "    entered_number = input (\"please enter a number\")\n",
    "    if entered_number.isdigit():\n",
    "            \n",
    "        entered_number = int(entered_number)\n",
    "        lst.append(entered_number)\n",
    "        i = i + 1 \n",
    "    else:\n",
    "        print(\"please enter a valid number\")\n",
    "\n",
    "lst.sort()\n",
    "print(lst)\n",
    "\n",
    "lst.sort(reverse= True)\n",
    "print(lst)\n"
   ]
  },
  {
   "cell_type": "markdown",
   "metadata": {},
   "source": [
    "# Write a program that prints the number of times the string 'iti' occurs in anystring."
   ]
  },
  {
   "cell_type": "code",
   "execution_count": 78,
   "metadata": {},
   "outputs": [
    {
     "name": "stdout",
     "output_type": "stream",
     "text": [
      "2\n"
     ]
    }
   ],
   "source": [
    "s = 'iti'\n",
    "\n",
    "stin = input(\"enter a string \")\n",
    "count = 0\n",
    "\n",
    "for i in range(len(stin) - 2):\n",
    "    if stin[i] == 'i' and stin[i+1] == 't' and stin[i+2] == 'i':\n",
    "        count += 1\n",
    "\n",
    "print(count)"
   ]
  },
  {
   "cell_type": "markdown",
   "metadata": {},
   "source": [
    "# Write a program that remove all vowels from the input word and generate a brief version of it."
   ]
  },
  {
   "cell_type": "code",
   "execution_count": 85,
   "metadata": {},
   "outputs": [
    {
     "name": "stdout",
     "output_type": "stream",
     "text": [
      "sr\n"
     ]
    }
   ],
   "source": [
    "vowels = \"aeiouAEIOU\"\n",
    "\n",
    "str = input(\"please enter a string: \")\n",
    "\n",
    "result = \"\"\n",
    "\n",
    "for char in str:\n",
    "    if char not in vowels:\n",
    "        result += char\n",
    "\n",
    "print(result)\n",
    "\n",
    "# vowels = \"aeiouAEIOU\"\n",
    "\n",
    "# str = input(\"please enter a string: \")\n",
    "\n",
    "\n",
    "# for char in str:\n",
    "#     if char in vowels:\n",
    "#         print(\"Pop Element: \"+str[char].pop())\n",
    "\n",
    "# print(str)\n",
    "\n"
   ]
  },
  {
   "cell_type": "code",
   "execution_count": null,
   "metadata": {},
   "outputs": [],
   "source": []
  },
  {
   "cell_type": "code",
   "execution_count": null,
   "metadata": {},
   "outputs": [],
   "source": []
  }
 ],
 "metadata": {
  "kernelspec": {
   "display_name": "Python 3",
   "language": "python",
   "name": "python3"
  },
  "language_info": {
   "codemirror_mode": {
    "name": "ipython",
    "version": 3
   },
   "file_extension": ".py",
   "mimetype": "text/x-python",
   "name": "python",
   "nbconvert_exporter": "python",
   "pygments_lexer": "ipython3",
   "version": "3.10.12"
  }
 },
 "nbformat": 4,
 "nbformat_minor": 2
}
