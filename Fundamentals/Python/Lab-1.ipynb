{
 "cells": [
  {
   "cell_type": "markdown",
   "metadata": {},
   "source": [
    "# 1- Write a program that \n",
    "takes a string input from the user and prints the string in reverse order. \n",
    "## Hint use while loop and string concat. Don’t use str[::-1]"
   ]
  },
  {
   "cell_type": "code",
   "execution_count": 74,
   "metadata": {},
   "outputs": [
    {
     "name": "stdout",
     "output_type": "stream",
     "text": [
      "Reversed name: ahon\n"
     ]
    }
   ],
   "source": [
    "name = input (\"What is your name? \")\n",
    "\n",
    "i = len(name) - 1\n",
    "reversed_name = \"\"\n",
    "while i >= 0:\n",
    "    reversed_name += name[i]\n",
    "    i -= 1\n",
    "print(\"Reversed name:\", reversed_name)   "
   ]
  },
  {
   "cell_type": "markdown",
   "metadata": {},
   "source": [
    "# 2- Create a program that counts the number of vowels\n",
    "and consonants in a given string.\n",
    "## Hint: vowels are ‘aeiou’ , Use the in operator and while loop"
   ]
  },
  {
   "cell_type": "code",
   "execution_count": 76,
   "metadata": {},
   "outputs": [
    {
     "name": "stdout",
     "output_type": "stream",
     "text": [
      "the counter is 5\n"
     ]
    }
   ],
   "source": [
    "name = input (\"What is your name? \")\n",
    "\n",
    "vowels = \"aeiouAEIOU\"\n",
    "\n",
    "count = 0\n",
    "i = len(name) - 1\n",
    "\n",
    "while i >= 0:\n",
    "    if name[i] in vowels:\n",
    "        count += 1\n",
    "\n",
    "    i -= 1    \n",
    "\n",
    "print(f\"the counter is {count}\")\n",
    "        \n",
    "        \n"
   ]
  },
  {
   "cell_type": "markdown",
   "metadata": {},
   "source": [
    "# 3- Build a program that \n",
    "asks the user for a string and a number, then prints the string repeated that number of times [using while loop]."
   ]
  },
  {
   "cell_type": "code",
   "execution_count": 77,
   "metadata": {},
   "outputs": [
    {
     "name": "stdout",
     "output_type": "stream",
     "text": [
      "israa\n",
      "israa\n",
      "israa\n",
      "israa\n"
     ]
    }
   ],
   "source": [
    "string = input(\"Enter a string: \")\n",
    "num = input(\"Enter a number: \")\n",
    "\n",
    "if (num.isdigit()):\n",
    "    num = int(num)\n",
    "    while num > 0:\n",
    "        print(string)\n",
    "        num -= 1\n",
    "\n",
    "else :\n",
    "    print(\"You did not enter a number\")\n",
    "    exit()"
   ]
  },
  {
   "cell_type": "markdown",
   "metadata": {},
   "source": [
    "# 4-Create a program that\n",
    "takes a string and capitalizes the first letter of each word. Using while loops and without using title"
   ]
  },
  {
   "cell_type": "code",
   "execution_count": 78,
   "metadata": {},
   "outputs": [
    {
     "name": "stdout",
     "output_type": "stream",
     "text": [
      "Israa Aabdelghan\n"
     ]
    }
   ],
   "source": [
    "name = input(\"Enter your name: \")\n",
    "\n",
    "length = len(name)\n",
    "counter = 0\n",
    "capitalized_name = \"\" #e,=mpty string to put the capitalized name in \n",
    "\n",
    "while length >= 0 and counter < len(name) - 1:\n",
    "    if counter == 0:\n",
    "        capitalized_name += name[0].upper()\n",
    "\n",
    "    elif name[counter] == \" \":\n",
    "        capitalized_name += name[counter]\n",
    "        capitalized_name += name[counter + 1].upper()\n",
    "\n",
    "    else:\n",
    "        capitalized_name += name[counter].lower()\n",
    "\n",
    "\n",
    "    counter += 1\n",
    "    length -= 1\n",
    "\n",
    "print(capitalized_name) \n"
   ]
  },
  {
   "cell_type": "markdown",
   "metadata": {},
   "source": [
    "# 5- Write a program that \n",
    "prints only the even numbers from 0 to 120 using while loop."
   ]
  },
  {
   "cell_type": "code",
   "execution_count": 80,
   "metadata": {},
   "outputs": [
    {
     "name": "stdout",
     "output_type": "stream",
     "text": [
      "120\n",
      "118\n",
      "116\n",
      "114\n",
      "112\n",
      "110\n",
      "108\n",
      "106\n",
      "104\n",
      "102\n",
      "100\n",
      "98\n",
      "96\n",
      "94\n",
      "92\n",
      "90\n",
      "88\n",
      "86\n",
      "84\n",
      "82\n",
      "80\n",
      "78\n",
      "76\n",
      "74\n",
      "72\n",
      "70\n",
      "68\n",
      "66\n",
      "64\n",
      "62\n",
      "60\n",
      "58\n",
      "56\n",
      "54\n",
      "52\n",
      "50\n",
      "48\n",
      "46\n",
      "44\n",
      "42\n",
      "40\n",
      "38\n",
      "36\n",
      "34\n",
      "32\n",
      "30\n",
      "28\n",
      "26\n",
      "24\n",
      "22\n",
      "20\n",
      "18\n",
      "16\n",
      "14\n",
      "12\n",
      "10\n",
      "8\n",
      "6\n",
      "4\n",
      "2\n",
      "0\n"
     ]
    }
   ],
   "source": [
    "num = 120 \n",
    "\n",
    "while num >= 0 : # while num is greater than 0\n",
    "    if num % 2 == 0:\n",
    "        print(num)\n",
    "    num -= 1\n",
    "\n",
    "\n"
   ]
  },
  {
   "cell_type": "markdown",
   "metadata": {},
   "source": [
    "# 7- Use a while loop to find and print :\n",
    "the sum of all even numbers up to a user-specified limit."
   ]
  },
  {
   "cell_type": "code",
   "execution_count": 82,
   "metadata": {},
   "outputs": [
    {
     "name": "stdout",
     "output_type": "stream",
     "text": [
      "the sum is 30\n",
      "30\n"
     ]
    }
   ],
   "source": [
    "num_1 = input(\"what the limit you want to print the sum up to ?\")\n",
    "\n",
    "if (num_1.isdigit()):\n",
    "    num_1 = int(num_1)\n",
    "    sum = 0\n",
    "    i = 0 \n",
    "    while num_1 >= 0:\n",
    "        if num_1 % 2 == 0:\n",
    "            sum += num_1\n",
    "        \n",
    "        num_1 -= 2\n",
    "\n",
    "    print(f\"the sum is {sum}\")\n",
    "\n",
    "else:\n",
    "    print(\"You did not enter a number\")\n",
    "\n",
    "#print(10+8+6+4+2+0) #testing the sum of even numbers"
   ]
  },
  {
   "cell_type": "markdown",
   "metadata": {},
   "source": [
    "# 8- Create a program that :\n",
    "takes any positive integer n as input and prints the sequence according to the until n becomes 1.\n",
    "\n",
    "## Hint given 5 → output 5, 4, 3,2,1\n",
    "## Hint: print them in one string"
   ]
  },
  {
   "cell_type": "code",
   "execution_count": 84,
   "metadata": {},
   "outputs": [
    {
     "name": "stdout",
     "output_type": "stream",
     "text": [
      "121110987654321\n"
     ]
    }
   ],
   "source": [
    "num = input(\"Enter a number: \")\n",
    "num_1 = int(num) -1\n",
    "\n",
    "if (num.isdigit()):\n",
    "    while num_1 > 0 :\n",
    "        num += str(num_1) \n",
    "        num_1 -= 1\n",
    "\n",
    "else:\n",
    "    print(\"You did not enter a number\")\n",
    "\n",
    "print(num)\n",
    "    "
   ]
  },
  {
   "cell_type": "markdown",
   "metadata": {
    "tags": [
     "parameters"
    ]
   },
   "source": [
    "# 9- Create a program that :\n",
    "asks for user input repeatedly until they enter a valid positive integer then print it."
   ]
  },
  {
   "cell_type": "code",
   "execution_count": 85,
   "metadata": {},
   "outputs": [
    {
     "name": "stdout",
     "output_type": "stream",
     "text": [
      "You did not enter a valid positive integer\n",
      "You did not enter a valid positive integer\n",
      "You did not enter a valid positive integer\n",
      "1\n"
     ]
    }
   ],
   "source": [
    "num_1 = input(\"Enter a number: \")\n",
    "\n",
    "while not num_1.isdigit() or int(num_1) <= 0:\n",
    "    print(\"You did not enter a valid positive integer\")\n",
    "    num_1 = input(\"Enter a number: \")\n",
    "num = int(num_1)\n",
    "print(num)\n",
    "\n",
    "    "
   ]
  },
  {
   "cell_type": "markdown",
   "metadata": {},
   "source": [
    "#  10- Write a program to :\n",
    "calculate the factorial of a given number using a while loop.\n",
    "Given 5 —> output 120"
   ]
  },
  {
   "cell_type": "code",
   "execution_count": 87,
   "metadata": {},
   "outputs": [
    {
     "name": "stdout",
     "output_type": "stream",
     "text": [
      "6\n"
     ]
    }
   ],
   "source": [
    "num_1 = input(\"Enter a number: \")\n",
    "factorial = 1\n",
    "\n",
    "if (num_1.isdigit()):\n",
    "    num_1 = int(num_1)\n",
    "    while num_1 > 0:\n",
    "        factorial *= num_1\n",
    "        num_1 -= 1\n",
    "\n",
    "else:\n",
    "    print(\"You did not enter a number\")\n",
    "\n",
    "print(factorial)"
   ]
  },
  {
   "cell_type": "markdown",
   "metadata": {},
   "source": [
    "# 11- Use a while loop to reverse the digits of an integer provided by the user.\n",
    "For example, if the userenters 1234, the output should be 4321."
   ]
  },
  {
   "cell_type": "code",
   "execution_count": 89,
   "metadata": {},
   "outputs": [
    {
     "name": "stdout",
     "output_type": "stream",
     "text": [
      "5 2 3 "
     ]
    }
   ],
   "source": [
    "num = input(\"Please enter a number \")\n",
    "\n",
    "if (num.isdigit()):\n",
    "    num = int(num)\n",
    "    while num > 0:\n",
    "        u = num%10\n",
    "        num = num//10\n",
    "        print(u , end = \" \")\n"
   ]
  },
  {
   "cell_type": "markdown",
   "metadata": {},
   "source": [
    "# 12- Write a program that :\n",
    "keeps asking the user to enter a password until they enter the correct one print success.\n",
    "Use a while loop to keep prompting the user."
   ]
  },
  {
   "cell_type": "code",
   "execution_count": 91,
   "metadata": {},
   "outputs": [
    {
     "name": "stdout",
     "output_type": "stream",
     "text": [
      "Incorrect password\n",
      "Incorrect password\n",
      "Incorrect password\n",
      "Correct password\n"
     ]
    }
   ],
   "source": [
    "passwd = \"123456789\"\n",
    "\n",
    "num = input(\"Enter your password: \")\n",
    "\n",
    "while not num.isdigit() or num != passwd:\n",
    "    print(\"Incorrect password\")\n",
    "    num = input(\"Enter your password: \")\n",
    "\n",
    "print(\"Correct password\")\n"
   ]
  },
  {
   "cell_type": "markdown",
   "metadata": {},
   "source": [
    "# 13- Write a program that :\n",
    "takes a number from the user and applies the Collatz Conjecture rules:\n",
    "● If the number is even, divide it by 2.\n",
    "● If the number is odd, multiply it by 3 and add 1.\n",
    "Continue until the number becomes 1."
   ]
  },
  {
   "cell_type": "code",
   "execution_count": 92,
   "metadata": {},
   "outputs": [
    {
     "name": "stdout",
     "output_type": "stream",
     "text": [
      "46\n",
      "23.0\n",
      "70.0\n",
      "35.0\n",
      "106.0\n",
      "53.0\n",
      "160.0\n",
      "80.0\n",
      "40.0\n",
      "20.0\n",
      "10.0\n",
      "5.0\n",
      "16.0\n",
      "8.0\n",
      "4.0\n",
      "2.0\n",
      "1.0\n"
     ]
    }
   ],
   "source": [
    "num = input(\"Enter a number: \")\n",
    "\n",
    "if (num.isdigit()):\n",
    "    num = int(num)\n",
    "\n",
    "    while num != 1:\n",
    "\n",
    "        if ( num % 2 == 0):\n",
    "            num /= 2 \n",
    "        elif ( num % 2 != 0):\n",
    "            num = 3*num + 1\n",
    "        \n",
    "        print(num)\n",
    "\n",
    "else:\n",
    "    print(\"You did not enter a valid number\")\n",
    "        "
   ]
  },
  {
   "cell_type": "code",
   "execution_count": null,
   "metadata": {},
   "outputs": [],
   "source": []
  }
 ],
 "metadata": {
  "kernelspec": {
   "display_name": "Python 3",
   "language": "python",
   "name": "python3"
  },
  "language_info": {
   "codemirror_mode": {
    "name": "ipython",
    "version": 3
   },
   "file_extension": ".py",
   "mimetype": "text/x-python",
   "name": "python",
   "nbconvert_exporter": "python",
   "pygments_lexer": "ipython3",
   "version": "3.10.12"
  }
 },
 "nbformat": 4,
 "nbformat_minor": 2
}
