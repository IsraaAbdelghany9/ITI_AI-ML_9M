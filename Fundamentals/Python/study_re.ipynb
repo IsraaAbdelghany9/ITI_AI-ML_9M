{
 "cells": [
  {
   "cell_type": "markdown",
   "metadata": {},
   "source": [
    "<h1 style=\"background-color:pink; color:black; text-align:center;\">Studying the basics of the re functions in python</h1>"
   ]
  },
  {
   "cell_type": "markdown",
   "metadata": {},
   "source": [
    "### The re module offers a set of functions that allows us to search a string for a match:\n",
    "\n"
   ]
  },
  {
   "cell_type": "code",
   "execution_count": 6,
   "metadata": {},
   "outputs": [
    {
     "name": "stdout",
     "output_type": "stream",
     "text": [
      "<re.Match object; span=(0, 17), match='The rain in Spain'>\n",
      "YES! We have a match!\n"
     ]
    }
   ],
   "source": [
    "import re\n",
    "\n",
    "txt = \"The rain in Spain\"\n",
    "x = re.search(\"^The .*Spain$\", txt) # The string has to start with \"The\" and ends with \"Spain\" --> ^The and Spain$ and .* is any character except newline\n",
    "print(x)\n",
    "\n",
    "if x:\n",
    "  print(\"YES! We have a match!\")\n",
    "else:\n",
    "  print(\"No match\")"
   ]
  },
  {
   "cell_type": "markdown",
   "metadata": {},
   "source": [
    "\n",
    "<h4 style=\"color:pink;\">Function\tDescription\n",
    "findall\tReturns a list containing all matches\n",
    "search\tReturns a Match object if there is a match anywhere in the string\n",
    "split\tReturns a list where the string has been split at each match\n",
    "sub\tReplaces one or many matches with a string \n",
    "</h4>"
   ]
  },
  {
   "cell_type": "markdown",
   "metadata": {},
   "source": [
    "Function\tDescription \n",
    "\n",
    "findall\tReturns a list containing all matches\n",
    "\n",
    "search\tReturns a Match object if there is a match anywhere in the string\n",
    "\n",
    "split\tReturns a list where the string has been split at each match\n",
    "\n",
    "sub\tReplaces one or many matches with a string"
   ]
  },
  {
   "cell_type": "markdown",
   "metadata": {},
   "source": []
  }
 ],
 "metadata": {
  "kernelspec": {
   "display_name": "Python 3",
   "language": "python",
   "name": "python3"
  },
  "language_info": {
   "codemirror_mode": {
    "name": "ipython",
    "version": 3
   },
   "file_extension": ".py",
   "mimetype": "text/x-python",
   "name": "python",
   "nbconvert_exporter": "python",
   "pygments_lexer": "ipython3",
   "version": "3.10.12"
  }
 },
 "nbformat": 4,
 "nbformat_minor": 2
}
