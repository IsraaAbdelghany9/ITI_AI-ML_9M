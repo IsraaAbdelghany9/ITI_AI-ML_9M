{
 "cells": [
  {
   "cell_type": "markdown",
   "metadata": {},
   "source": [
    "# Lab 2"
   ]
  },
  {
   "cell_type": "markdown",
   "metadata": {},
   "source": [
    "### Write a function that accepts two arguments (length, start) to generate an array of a specific length filled with integer numbers increased by one from start."
   ]
  },
  {
   "cell_type": "code",
   "execution_count": 3,
   "metadata": {},
   "outputs": [
    {
     "name": "stdout",
     "output_type": "stream",
     "text": [
      "5 6 7 8 9 10 11 12 13 14 "
     ]
    }
   ],
   "source": [
    "def counter(length = int , start = int ):\n",
    "    for i in range(length):\n",
    "        print(start + i , end= ' ')\n",
    "\n",
    "\n",
    "counter(10, 5)"
   ]
  },
  {
   "cell_type": "markdown",
   "metadata": {},
   "source": [
    "### Write a function that takes a number as an argument and if the number divisible by 3 return \"Fizz\" and if it is divisible by 5 return \"buzz\" and if is is divisible by both return \"FizzBuzz\""
   ]
  },
  {
   "cell_type": "code",
   "execution_count": 7,
   "metadata": {},
   "outputs": [
    {
     "name": "stdout",
     "output_type": "stream",
     "text": [
      " num must be integer \n"
     ]
    }
   ],
   "source": [
    "def fizzbuzz(number ):\n",
    "    if type(number) == int:\n",
    "        if ( number % 3 == 0 and number % 5 == 0):\n",
    "            print('FizzBuzz')\n",
    "        elif ( number % 3 == 0):\n",
    "            print('Fizz')\n",
    "        elif ( number % 5 == 0):\n",
    "            print('Buzz')\n",
    "    else:\n",
    "        print(\"The number must be integer \")\n",
    "    \n",
    "\n",
    "fizzbuzz('n')"
   ]
  },
  {
   "cell_type": "markdown",
   "metadata": {},
   "source": [
    "### Write a function which has an input of a string from user then it will return the same string reversed."
   ]
  },
  {
   "cell_type": "code",
   "execution_count": 1,
   "metadata": {},
   "outputs": [
    {
     "name": "stdout",
     "output_type": "stream",
     "text": [
      "aarsi"
     ]
    }
   ],
   "source": [
    "def _name(name):\n",
    "\n",
    "    if type(name) == str:\n",
    "        for i in range(len(name) - 1, -1, -1):\n",
    "            print(name[i], end = '')\n",
    "    else:\n",
    "        print('The name must be string')\n",
    "        return\n",
    "    \n",
    "_name(\"israa\")"
   ]
  },
  {
   "cell_type": "markdown",
   "metadata": {},
   "source": []
  },
  {
   "cell_type": "markdown",
   "metadata": {},
   "source": [
    "### Ask the user for his name then confirm that he has entered his name(not an empty string/integers). then proceed to ask him for his email and print all this data (Bonus) check if it is a valid email or not"
   ]
  },
  {
   "cell_type": "markdown",
   "metadata": {},
   "source": [
    "### quick note :\n",
    "```\n",
    "while True:\n",
    "    # Code block (executed at least once)\n",
    "    \n",
    "    # Check the condition\n",
    "    if not condition:\n",
    "        break\n",
    "```\n",
    "is the same as do while in python "
   ]
  },
  {
   "cell_type": "markdown",
   "metadata": {},
   "source": [
    "### 2rd version"
   ]
  },
  {
   "cell_type": "code",
   "execution_count": 21,
   "metadata": {},
   "outputs": [
    {
     "name": "stdout",
     "output_type": "stream",
     "text": [
      "Welcome to the system, you are in now ^-^\n",
      "Valid email syntax!\n",
      "Your name is Ahmed and your email is israa@vww.com\n"
     ]
    }
   ],
   "source": [
    "import re\n",
    "\n",
    "# Function to validate email syntax\n",
    "def is_valid_email(email):\n",
    "    pattern = r'^[a-zA-Z0-9._%+-]+@[a-zA-Z0-9.-]+\\.[a-zA-Z]{2,}$'\n",
    "    return re.match(pattern, email)\n",
    "\n",
    "# Function to validate the name and email\n",
    "def check_name(input_name, valid_name):\n",
    "    if not isinstance(input_name, str):\n",
    "        print(\"The name must be a string.\")\n",
    "        return False\n",
    "\n",
    "    if input_name != valid_name:\n",
    "        print(\"You entered a non-valid name to the system.\")\n",
    "        return False\n",
    "\n",
    "    print(\"Welcome to the system, you are in now ^-^\")\n",
    "    email = input(\"Please enter your email: \")\n",
    "    \n",
    "    if is_valid_email(email):\n",
    "        print(\"Valid email syntax!\")\n",
    "        print(f\"Your name is {input_name} and your email is {email}\")\n",
    "        return True\n",
    "    else:\n",
    "        print(\"Invalid email syntax. Please enter a valid email address.\")\n",
    "        return False\n",
    "\n",
    "# Main loop\n",
    "name = \"Ahmed\"\n",
    "\n",
    "while True:\n",
    "    user_name = input(\"Please enter your name: \")\n",
    "    if check_name(user_name, name):\n",
    "        break  # Exit the loop if validation is successful\n"
   ]
  },
  {
   "cell_type": "markdown",
   "metadata": {},
   "source": [
    "### 3rd and best version # Function to validate email syntax\n",
    "def is_valid_email(email):\n",
    "    if ' ' in email:\n",
    "        return False\n",
    "    if '@' not in email or '.' not in email.split('@')[1]:\n",
    "        return False\n",
    "    return True"
   ]
  },
  {
   "cell_type": "code",
   "execution_count": 27,
   "metadata": {},
   "outputs": [
    {
     "name": "stdout",
     "output_type": "stream",
     "text": [
      "Welcome to the system, you are in now ^-^\n",
      "The email must not contain spaces.\n",
      "Invalid email syntax. Please try again.\n",
      "The email must not contain spaces.\n",
      "Invalid email syntax. Please try again.\n",
      "Valid email syntax!\n",
      "Your name is Ahmed and your email is israa@gmail.com\n"
     ]
    }
   ],
   "source": [
    "# Validate email address\n",
    "def is_valid_email(email):\n",
    "    if ' ' in email:\n",
    "        print(\"The email must not contain spaces.\")\n",
    "        return False\n",
    "    if '.' not in email:\n",
    "        print(\"The email must contain a '.' symbol.\")\n",
    "        return False\n",
    "    if '@' not in email:\n",
    "        print(\"The email must contain an '@' symbol.\")\n",
    "        return False\n",
    "    if email.index('.') < email.index('@'):  # Ensure '.' comes after '@'\n",
    "        print(\"The '.' must come after the '@' symbol.\")\n",
    "        return False\n",
    "    return True\n",
    "\n",
    "# Validate the name and email\n",
    "def check_name(input_name):\n",
    "    if not isinstance(input_name, str):\n",
    "        print(\"The name must be a string.\")\n",
    "        return False\n",
    "\n",
    "    if input_name != name:\n",
    "        print(\"You entered a non-valid name to the system.\")\n",
    "        return False\n",
    "\n",
    "    print(\"Welcome to the system, you are in now ^-^\")\n",
    "\n",
    "    while True:\n",
    "        email = input(\"Please enter your email: \")\n",
    "        if is_valid_email(email):\n",
    "            print(\"Valid email syntax!\")\n",
    "            print(f\"Your name is {input_name} and your email is {email}\")\n",
    "            return True\n",
    "        else:\n",
    "            print(\"Invalid email syntax. Please try again.\")\n",
    "\n",
    "# Main loop\n",
    "name = \"Ahmed\"\n",
    "\n",
    "while True:\n",
    "    user_name = input(\"Please enter your name: \")\n",
    "    if check_name(user_name):\n",
    "        break  # Exit the loop if validation is successful\n"
   ]
  },
  {
   "cell_type": "markdown",
   "metadata": {},
   "source": [
    "### Write a function that takes a string and prints the longest alphabetical ordered substring occurred For example, if the string is 'abdulrahman' then the output is: Longest substring in alphabetical order is: abdu"
   ]
  },
  {
   "cell_type": "code",
   "execution_count": 83,
   "metadata": {},
   "outputs": [
    {
     "name": "stdout",
     "output_type": "stream",
     "text": [
      "welcome\n",
      "The largest is now i\n",
      "The last largest is now is\n",
      "The largest is now empty\n",
      "The largest is now a\n",
      "The largest substring in 'israa' in alphapetical order is 'is'\n"
     ]
    }
   ],
   "source": [
    "\n",
    "def largestAlphapeticalOrder(_string = str):\n",
    "    if not isinstance(_string, str):\n",
    "        print(\"The input must be a string.\")\n",
    "        return\n",
    "    \n",
    "    largest = ''\n",
    "    last_largest = ''\n",
    "    lenght = len(_string) -1\n",
    "    counter_1 = 0\n",
    "    counter_2 = 0\n",
    "\n",
    "    print(\"welcome\")\n",
    "    for i in range(lenght):\n",
    "        if _string[i] <= _string[i + 1]:\n",
    "            largest += _string[i]\n",
    "            counter_1 += 1\n",
    "            print(f'The largest is now {largest}')\n",
    "\n",
    "        elif len(largest) > len(last_largest):\n",
    "            largest += _string[i]\n",
    "            last_largest = largest\n",
    "            print(f'The last largest is now {last_largest}')\n",
    "            counter_2 = counter_1\n",
    "            largest = ''\n",
    "            counter_1 = 0\n",
    "            print('The largest is now empty')\n",
    "\n",
    "        else : \n",
    "            continue\n",
    "            \n",
    "        \n",
    "    return last_largest\n",
    "\n",
    "\n",
    "_nameToCheck = \"israa\"\n",
    "theLargsedt = largestAlphapeticalOrder(_nameToCheck )\n",
    "\n",
    "print(f\"The largest substring in '{_nameToCheck}' in alphapetical order is '{theLargsedt}'\")\n",
    "\n",
    "\n"
   ]
  },
  {
   "cell_type": "code",
   "execution_count": 85,
   "metadata": {},
   "outputs": [
    {
     "name": "stdout",
     "output_type": "stream",
     "text": [
      "The largest substring in 'abdulrahman' in alphabetical order is 'abdu'\n"
     ]
    }
   ],
   "source": [
    "\n",
    "def largestAlphapeticalOrder(_string = str):\n",
    "    if not isinstance(_string, str):\n",
    "        print(\"The input must be a string.\")\n",
    "        return False\n",
    "    \n",
    "    largest = ''\n",
    "    last_largest = ''\n",
    "    length = len(_string)\n",
    "    \n",
    "    for i in range(length):\n",
    "        if i < length - 1 and _string[i] <= _string[i + 1]:\n",
    "            largest += _string[i]\n",
    "            \n",
    "        else:\n",
    "            largest += _string[i]\n",
    "            if len(largest) > len(last_largest):\n",
    "                last_largest = largest\n",
    "            largest = ''\n",
    "    \n",
    "    return last_largest\n",
    "\n",
    "_nameToCheck = \"abdulrahman\"\n",
    "theLargest = largestAlphapeticalOrder(_nameToCheck)\n",
    "\n",
    "print(f\"The largest substring in '{_nameToCheck}' in alphabetical order is '{theLargest}'\")\n",
    "\n",
    "\n"
   ]
  },
  {
   "cell_type": "markdown",
   "metadata": {},
   "source": [
    "## Write a program which repeatedly reads numbers until the user enters “done”.\n",
    "### Once “done” is entered, print out the total, count, and average of the numbers.\n",
    "### If the user enters anything other than a number, detect their mistake, print an error message and skip to the next number."
   ]
  },
  {
   "cell_type": "code",
   "execution_count": 88,
   "metadata": {},
   "outputs": [
    {
     "name": "stdout",
     "output_type": "stream",
     "text": [
      "The value must be an integer.\n",
      "The list is [1, 2, 3, 4, 5, 6, 7, 8, 9] and the average is 5.0 and the number of elements is 9 the total is 45\n"
     ]
    }
   ],
   "source": [
    "\n",
    "myList = []\n",
    "\n",
    "\n",
    "while True:\n",
    "    enteredVal = input(\"Please enter a value: \")\n",
    "    if enteredVal.isdigit():\n",
    "        enteredVal = int(enteredVal)\n",
    "        myList.append(enteredVal)\n",
    "    else:\n",
    "        print(\"The value must be an integer.\")\n",
    "\n",
    "    if (enteredVal == 'done'):\n",
    "        print(f'The list is {myList} and the average is {sum(myList) / len(myList)} and the number of elements is {len(myList)} the total is {sum(myList)}')\n",
    "        break"
   ]
  },
  {
   "cell_type": "markdown",
   "metadata": {},
   "source": [
    "## Word guessing game (hangman)\n",
    "\n",
    "### A list of words will be hardcoded in your program, out of which the interpreter will\n",
    "choose 1 random word.\n",
    "The user first must input their names\n",
    "\n",
    "### Ask the user to guess any alphabet. If the random word contains that alphabet, it\n",
    "will be shown as the output(with correct placement)\n",
    "Else the program will ask you to guess another alphabet.\n",
    "Give 7 turns maximum to guess the complete word."
   ]
  },
  {
   "cell_type": "code",
   "execution_count": 2,
   "metadata": {},
   "outputs": [
    {
     "name": "stdout",
     "output_type": "stream",
     "text": [
      "Welcome to the game\n",
      "You have 7 trials to guess the name\n",
      "Good luck\n",
      "Please enter 7 names to guess from\n",
      "The char i is in the name continue you may win ^_^\n",
      "sraa\n",
      "The char s is in the name continue you may win ^_^\n",
      "raa\n",
      "The char r is in the name continue you may win ^_^\n",
      "aa\n",
      "The char a is in the name continue you may win ^_^\n",
      "a\n",
      "The char a is in the name continue you may win ^_^\n",
      "\n",
      "You won\n"
     ]
    }
   ],
   "source": [
    "# import random\n",
    "\n",
    "counter = 7\n",
    "names = []\n",
    "\n",
    "print(\"Welcome to the game\")\n",
    "print(\"You have 7 trials to guess the name\")\n",
    "print(\"Good luck\")\n",
    "\n",
    "print(\"Please enter 7 names to guess from\")\n",
    "for i in range(counter):\n",
    "    name = input(f\"Enter name {i+1}: \")\n",
    "    names.append(name)\n",
    "\n",
    "# name = random.choice(names)\n",
    "name = names[0]\n",
    "\n",
    "while True :\n",
    "    enteredValue = input(\"Please enter your char to  check: \")\n",
    "\n",
    "    if enteredValue in name:\n",
    "        print(f'The char {enteredValue} is in the name continue you may win ^_^')\n",
    "        name = name.replace(enteredValue, '' , 1)\n",
    "        print(name)\n",
    "        if name == '':\n",
    "            print('You won')\n",
    "            break\n",
    "\n",
    "    else :\n",
    "        if counter == 0:\n",
    "            print('You lost')\n",
    "            break\n",
    "        print (f'The char {enteredValue} is not in the name you have {counter} trials left')\n",
    "        counter -= 1\n",
    "\n"
   ]
  },
  {
   "cell_type": "code",
   "execution_count": null,
   "metadata": {},
   "outputs": [],
   "source": []
  }
 ],
 "metadata": {
  "kernelspec": {
   "display_name": "Python 3",
   "language": "python",
   "name": "python3"
  },
  "language_info": {
   "codemirror_mode": {
    "name": "ipython",
    "version": 3
   },
   "file_extension": ".py",
   "mimetype": "text/x-python",
   "name": "python",
   "nbconvert_exporter": "python",
   "pygments_lexer": "ipython3",
   "version": "3.10.12"
  }
 },
 "nbformat": 4,
 "nbformat_minor": 2
}
